{
 "cells": [
  {
   "cell_type": "code",
   "execution_count": null,
   "id": "8045b50b",
   "metadata": {},
   "outputs": [],
   "source": [
    "\"\"\"\n",
    "This code will loop through all the csv files in the specified folder, copy the specified column, and add it to a Pandas dataframe.\n",
    "The column names in the dataframe will be the filename from where the column was copied without the extension.\n",
    "Finally, it will write the dataframe to an output CSV file.\n",
    "\"\"\"\n",
    "import pandas as pd\n",
    "\n",
    "# Specify the folder containing the CSV files.\n",
    "folder_path = '.....path...../ Multiple_CSV'\n",
    "\n",
    "# Specify the column number to copy\n",
    "column_number = 5\n",
    "\n",
    "# Create an empty dataframe\n",
    "df = pd.DataFrame()\n",
    "\n",
    "# Loop through the files in the folder\n",
    "for filename in os.listdir(folder_path):\n",
    "    if filename.endswith('.csv'):\n",
    "        # Read the specified column from the file and add it to the dataframe\n",
    "        temp_df = pd.read_csv(os.path.join(folder_path, filename), usecols=[column_number], header=None)\n",
    "        # Extract the filename without the extension\n",
    "        column_name = os.path.splitext(filename)[0]\n",
    "        temp_df.columns = [column_name]\n",
    "        df = pd.concat([df, temp_df], axis=1)\n",
    "\n",
    "# Write the dataframe to an output CSV file\n",
    "df.to_csv(\"....path...../Merged_GPM.csv\", index=False)"
   ]
  }
 ],
 "metadata": {
  "kernelspec": {
   "display_name": "Python 3 (ipykernel)",
   "language": "python",
   "name": "python3"
  },
  "language_info": {
   "codemirror_mode": {
    "name": "ipython",
    "version": 3
   },
   "file_extension": ".py",
   "mimetype": "text/x-python",
   "name": "python",
   "nbconvert_exporter": "python",
   "pygments_lexer": "ipython3",
   "version": "3.9.13"
  }
 },
 "nbformat": 4,
 "nbformat_minor": 5
}
