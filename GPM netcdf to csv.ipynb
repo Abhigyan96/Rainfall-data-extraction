{
 "cells": [
  {
   "cell_type": "code",
   "execution_count": null,
   "id": "881f0880",
   "metadata": {},
   "outputs": [],
   "source": [
    "\"\"\"\n",
    "This code is for GPM daily precipitation data.\n",
    "After downloading the daily precipitation data, store all the netcdf files in one folder.\n",
    "The following code will go through the folder containing the netcdf files, convert each netcdf file to first a dataframe and then to a csv.\n",
    "Name of each csv will be Date of the corresponsing netcdf data.\n",
    "\"\"\"\n",
    "import xarray as xr\n",
    "import os\n",
    "from datetime import date, timedelta\n",
    "\n",
    "# Give the data range of downloaded GPM netcdf precipitation data.\n",
    "start_date = date(2022, 2, 27)\n",
    "end_date = date(2022, 3, 5)\n",
    "delta = timedelta(days=1)\n",
    "i = 0\n",
    "\n",
    "# Give folder path of the folder containing the netcdf files.\n",
    "folder_path = \".....path...../Folder_NetCDF......''\n",
    "for filename in os.listdir(folder_path):\n",
    "    print(f'filename = {filename}')\n",
    "\n",
    "    # The following code will extract data from each netcdf file, and concert it to a csv.\n",
    "    # After creating the csv the code will store the csv to a folder\n",
    "    # for single_date in range(i,366):\n",
    "    for single_date in range(i,(int ((end_date - start_date).days)+1)):\n",
    "        \n",
    "        file_path = os.path.join(folder_path, filename)\n",
    "        date = start_date + timedelta(single_date)\n",
    "        \n",
    "        \n",
    "        if os.path.isfile(file_path):\n",
    "            with xr.open_dataset(filename_or_obj= file_path, engine='netcdf4') as file:\n",
    "                df = file.to_dataframe()                                                             # Netcdf to Dataframe\n",
    "                df.to_csv(f'.....path...../.....Folder_CSVs....../{date}.csv')   # Dataframe to csv\n",
    "                \n",
    "                \n",
    "                i += 1\n",
    "                break"
   ]
  }
 ],
 "metadata": {
  "kernelspec": {
   "display_name": "Python 3 (ipykernel)",
   "language": "python",
   "name": "python3"
  },
  "language_info": {
   "codemirror_mode": {
    "name": "ipython",
    "version": 3
   },
   "file_extension": ".py",
   "mimetype": "text/x-python",
   "name": "python",
   "nbconvert_exporter": "python",
   "pygments_lexer": "ipython3",
   "version": "3.9.13"
  }
 },
 "nbformat": 4,
 "nbformat_minor": 5
}
