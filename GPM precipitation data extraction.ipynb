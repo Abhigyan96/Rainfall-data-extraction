{
 "cells": [
  {
   "cell_type": "code",
   "execution_count": 1,
   "id": "c6860216",
   "metadata": {},
   "outputs": [],
   "source": [
    "import xarray as xr\n",
    "try:\n",
    "    with xr.open_dataset(\n",
    "            filename_or_obj=\"C:\\HEC-HMS Abhigyan\\GPM\\DATA\\3B-DAY.MS.MRG.3IMERG.20070601-S000000-E235959.V06.nc4.nc4\", engine='netcdf4') as file:\n",
    "        \n",
    "        dimensions = dict(file.dims)\n",
    "        variables = file.variables\n",
    "        attributes = file.attrs\n",
    "except Exception as err:\n",
    "    pass"
   ]
  },
  {
   "cell_type": "code",
   "execution_count": 2,
   "id": "e3b25ee9",
   "metadata": {},
   "outputs": [
    {
     "ename": "NameError",
     "evalue": "name 'dimensions' is not defined",
     "output_type": "error",
     "traceback": [
      "\u001b[1;31m---------------------------------------------------------------------------\u001b[0m",
      "\u001b[1;31mNameError\u001b[0m                                 Traceback (most recent call last)",
      "\u001b[1;32m~\\AppData\\Local\\Temp\\ipykernel_7852\\2731725978.py\u001b[0m in \u001b[0;36m<module>\u001b[1;34m\u001b[0m\n\u001b[1;32m----> 1\u001b[1;33m \u001b[0mdimensions\u001b[0m\u001b[1;33m\u001b[0m\u001b[1;33m\u001b[0m\u001b[0m\n\u001b[0m",
      "\u001b[1;31mNameError\u001b[0m: name 'dimensions' is not defined"
     ]
    }
   ],
   "source": [
    "dimensions"
   ]
  },
  {
   "cell_type": "code",
   "execution_count": null,
   "id": "ab11d566",
   "metadata": {},
   "outputs": [],
   "source": []
  }
 ],
 "metadata": {
  "kernelspec": {
   "display_name": "Python 3 (ipykernel)",
   "language": "python",
   "name": "python3"
  },
  "language_info": {
   "codemirror_mode": {
    "name": "ipython",
    "version": 3
   },
   "file_extension": ".py",
   "mimetype": "text/x-python",
   "name": "python",
   "nbconvert_exporter": "python",
   "pygments_lexer": "ipython3",
   "version": "3.9.13"
  }
 },
 "nbformat": 4,
 "nbformat_minor": 5
}
