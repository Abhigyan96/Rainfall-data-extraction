{
 "cells": [
  {
   "cell_type": "code",
   "execution_count": 1,
   "id": "c20b02cf",
   "metadata": {},
   "outputs": [],
   "source": [
    "#pip install imdlib"
   ]
  },
  {
   "cell_type": "code",
   "execution_count": 1,
   "id": "71447040",
   "metadata": {},
   "outputs": [],
   "source": [
    "import imdlib as imd\n",
    "import numpy as np\n",
    "import pandas as pd"
   ]
  },
  {
   "cell_type": "code",
   "execution_count": 2,
   "id": "ecc4f251",
   "metadata": {},
   "outputs": [
    {
     "data": {
      "text/plain": [
       "' \\n# install imdlib python library\\n# you should be connected to internet for downloading the data\\n#-9999 value is for no data in saved csv file\\n# This code will download the imd data first and then convert the data to csv file\\nif you have data already downloaded then create folder named rain/tmax/tmin inside any folder and \\ncopy yearly data files in the respective folder and rename yearly data file as year name i.e 1951.GRD 1952.GRD etc and \\ncomment the line imd.get_data(variable,start_yr) and run the code it will convert the binary .GRD data into csv file\\n'"
      ]
     },
     "execution_count": 2,
     "metadata": {},
     "output_type": "execute_result"
    }
   ],
   "source": [
    "\"\"\" \n",
    "# install imdlib python library\n",
    "# you should be connected to internet for downloading the data\n",
    "#-9999 value is for no data in saved csv file\n",
    "# This code will download the imd data first and then convert the data to csv file\n",
    "if you have data already downloaded then create folder named rain/tmax/tmin inside any folder and \n",
    "copy yearly data files in the respective folder and rename yearly data file as year name i.e 1951.GRD 1952.GRD etc and \n",
    "comment the line imd.get_data(variable,start_yr) and run the code it will convert the binary .GRD data into csv file\n",
    "\"\"\""
   ]
  },
  {
   "cell_type": "code",
   "execution_count": 4,
   "id": "927c1190",
   "metadata": {},
   "outputs": [],
   "source": [
    "start_yr = 2016                                                                     # give starting year from which you want to download/convert data: 1901 ownwards for rainfall, 1951 for tmax and tmin\n",
    "end_yr = 2016                                                                       # give ending year upto which you want to download/convert data\n",
    "variable = 'rain'                                                                   # give variable name (rain for rainfall, tmax or tmin for min or max temperature)\n",
    "file_format = 'yearwise'                                                            # other option (None), which will assume deafult imd naming convention\n",
    "#imd.get_data(variable, start_yr, end_yr, fn_format='yearwise', file_dir='E:/data/new/') # download IMD data: just change path as per your requirement\n",
    "file_dir = 'C:/HEC-HMS Abhigyan/Data/Precipitation/IMD data/data_grd/rain/'                                                               # this path should be same as mentioned in previous line\n",
    "data = imd.open_data(variable, start_yr, end_yr,'yearwise', file_dir)               # this will open the data downloaded and saved in the location mentioned in previous line\n",
    "if variable == 'rain':\n",
    "    grid_size = 0.25                                             # grid spacing in deg\n",
    "    y_count = 129                                                # no of grids in y direction\n",
    "    x_count = 135                                                # no of grids in x direction\n",
    "    x = 66.5                                                     # starting longitude taken from control file (.ctl)\n",
    "    y = 6.5                                                      # starting latitude taken from control file (.ctl)\n",
    "elif variable == 'tmax' or variable == 'tmin':\n",
    "    grid_size = 1                                     # grid spacing in deg\n",
    "    y_count = 31                                      # no of grids in y direction\n",
    "    x_count = 31                                      # no of grids in x direction\n",
    "    x = 67.5                                          # starting longitude taken from control file (.ctl)\n",
    "    y = 7.5                                           # starting latitude taken from control file (.ctl)\n"
   ]
  },
  {
   "cell_type": "code",
   "execution_count": 5,
   "id": "99222b17",
   "metadata": {},
   "outputs": [
    {
     "name": "stdout",
     "output_type": "stream",
     "text": [
      "(366, 135, 129)\n"
     ]
    }
   ],
   "source": [
    "#print(grid_size,x_count, y_count, x, y)\n",
    "data\n",
    "data.shape\n",
    "np_array = data.data\n",
    "#print(np_array[0,0,0])\n",
    "#xr_objecct = data.get_xarray()\n",
    "#type(xr_objecct)\n",
    "#xr_objecct.mean('time').plot()\n",
    "years_no = (end_yr - start_yr) + 1\n",
    "#print(years_no)"
   ]
  },
  {
   "cell_type": "code",
   "execution_count": 6,
   "id": "7698e54e",
   "metadata": {},
   "outputs": [],
   "source": [
    "day = 0\n",
    "for yr in range(0,years_no):\n",
    "    f = open(\"C:/HEC-HMS Abhigyan/Data/Precipitation/IMD data/data_grd/rain\"+str(start_yr+yr)+\"_\"+str(variable)+\".csv\",'w')                        # just change the path where you want to save csv file\n",
    "    if ((start_yr+yr) % 4 == 0) and ((start_yr+yr) % 100 != 0):                               # check for leap year\n",
    "        days = 366\n",
    "        count = yr + days\n",
    "    elif ((start_yr+yr) % 4 == 0) and ((start_yr+yr) % 100 == 0) and ((start_yr+yr) % 400 == 0):\n",
    "        days = 366\n",
    "        count = yr + days\n",
    "    else:\n",
    "        days = 365\n",
    "        count = yr + days\n",
    "\n",
    "    day = day + days\n",
    "\n",
    "    f.write(\"X,Y,\")\n",
    "    for d in range(0, days):\n",
    "        f.write(str(d+1))\n",
    "        f.write(\",\")\n",
    "    f.write(\"\\n\")\n",
    "    #print(np_array[364,0,0])\n"
   ]
  },
  {
   "cell_type": "code",
   "execution_count": 7,
   "id": "8df2a6af",
   "metadata": {},
   "outputs": [
    {
     "name": "stdout",
     "output_type": "stream",
     "text": [
      "File for 2016_rain is saved\n",
      "CSV conversion successful !\n"
     ]
    }
   ],
   "source": [
    "    for j in range(0, y_count):\n",
    "\n",
    "        for i in range(0, x_count):\n",
    "\n",
    "            f.write(str((i * grid_size) + x))\n",
    "            f.write(\",\")\n",
    "            f.write(str((j * grid_size) + y))\n",
    "            f.write(\",\")\n",
    "            time = 0\n",
    "            for k in range(day-days, day):\n",
    "\n",
    "                val = np_array[k,i,j]\n",
    "                if val == 99.9000015258789 or val == -999:\n",
    "                    f.write(str(-9999))\n",
    "                    f.write(\",\")\n",
    "                else:\n",
    "                    f.write(str(val))\n",
    "                    f.write(\",\")\n",
    "\n",
    "\n",
    "            f.write(\"\\n\")\n",
    "    print(\"File for \" + str(start_yr + yr) + \"_\" + str(variable) + \" is saved\")\n",
    "print(\"CSV conversion successful !\")"
   ]
  },
  {
   "cell_type": "code",
   "execution_count": null,
   "id": "0305aa8b",
   "metadata": {},
   "outputs": [],
   "source": []
  }
 ],
 "metadata": {
  "kernelspec": {
   "display_name": "Python 3 (ipykernel)",
   "language": "python",
   "name": "python3"
  },
  "language_info": {
   "codemirror_mode": {
    "name": "ipython",
    "version": 3
   },
   "file_extension": ".py",
   "mimetype": "text/x-python",
   "name": "python",
   "nbconvert_exporter": "python",
   "pygments_lexer": "ipython3",
   "version": "3.9.13"
  }
 },
 "nbformat": 4,
 "nbformat_minor": 5
}
